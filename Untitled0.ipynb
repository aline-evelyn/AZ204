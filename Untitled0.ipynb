{
  "nbformat": 4,
  "nbformat_minor": 0,
  "metadata": {
    "colab": {
      "provenance": [],
      "authorship_tag": "ABX9TyPQHaNx7X56ZN/EmoFTRzeM",
      "include_colab_link": true
    },
    "kernelspec": {
      "name": "python3",
      "display_name": "Python 3"
    },
    "language_info": {
      "name": "python"
    }
  },
  "cells": [
    {
      "cell_type": "markdown",
      "metadata": {
        "id": "view-in-github",
        "colab_type": "text"
      },
      "source": [
        "<a href=\"https://colab.research.google.com/github/aline-evelyn/AZ204/blob/main/Untitled0.ipynb\" target=\"_parent\"><img src=\"https://colab.research.google.com/assets/colab-badge.svg\" alt=\"Open In Colab\"/></a>"
      ]
    },
    {
      "cell_type": "markdown",
      "source": [
        "Análise Estatística Avançada de Dados Meteorológicos e Impacto Ambiental em São Paulo"
      ],
      "metadata": {
        "id": "rR9zeHMM2NL4"
      }
    },
    {
      "cell_type": "code",
      "source": [
        "# Definindo os dados\n",
        "dias_chuvosos = 120\n",
        "dias_nao_chuvosos = 245\n",
        "total_dias = 365\n",
        "\n",
        "# Calculando a probabilidade de um dia ser chuvoso ou não chuvoso\n",
        "prob_chuvoso = dias_chuvosos / total_dias\n",
        "prob_nao_chuvoso = dias_nao_chuvosos / total_dias\n",
        "\n",
        "# Exibindo os resultados\n",
        "print(f\"Probabilidade de um dia ser chuvoso: {prob_chuvoso:.2f}\")\n",
        "print(f\"Probabilidade de um dia não ser chuvoso: {prob_nao_chuvoso:.2f}\")\n"
      ],
      "metadata": {
        "colab": {
          "base_uri": "https://localhost:8080/"
        },
        "id": "UR3hbLiz2Rtc",
        "outputId": "195266af-5509-422e-e1b3-3548fd1d7eab"
      },
      "execution_count": 1,
      "outputs": [
        {
          "output_type": "stream",
          "name": "stdout",
          "text": [
            "Probabilidade de um dia ser chuvoso: 0.33\n",
            "Probabilidade de um dia não ser chuvoso: 0.67\n"
          ]
        }
      ]
    }
  ]
}